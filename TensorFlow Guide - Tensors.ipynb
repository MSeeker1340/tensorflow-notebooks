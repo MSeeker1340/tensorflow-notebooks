{
 "cells": [
  {
   "cell_type": "code",
   "execution_count": 1,
   "metadata": {},
   "outputs": [
    {
     "data": {
      "text/plain": [
       "v\"1.10.0\""
      ]
     },
     "execution_count": 1,
     "metadata": {},
     "output_type": "execute_result"
    }
   ],
   "source": [
    "using TensorFlow\n",
    "TensorFlow.tf_version()"
   ]
  },
  {
   "cell_type": "markdown",
   "metadata": {},
   "source": [
    "# Tensors\n",
    "\n",
    "TensorFlow, as the name indicates, is a framework to define and run computations involving tensors. A **tensor** is a generalization of vectors and matrices to potentially higher dimensions. Internally, TensorFlow represents tensors as n-dimensional arrays of base datatypes.\n",
    "\n",
    "When writing a TensorFlow program, the main object you manipulate and pass around is the `Tensor`. A `Tensor` object represents a partially defined computation that will eventually produce a value. TensorFlow programs work by first building a graph of `Tensor` objects, detailing how each tensor is computed based on the other available tensors and then by running parts of this graph to achieve the desired results.\n",
    "\n",
    "A `Tensor` has the following properties:\n",
    "\n",
    "* a data type (`Float32`, `Int32`, or `String`, for example)\n",
    "\n",
    "* a shape\n",
    "\n",
    "Each element in the Tensor has the same data type, and the data type is always known. The shape (that is, the number of dimensions it has and the size of each dimension) might be only partially known. Most operations produce tensors of fully-known shapes if the shapes of their inputs are also fully known, but in some cases it's only possible to find the shape of a tensor at graph execution time.\n",
    "\n",
    "Some types of tensors are special, and these will be covered in other units of the TensorFlow guide. The main ones are:\n",
    "\n",
    "* `Variable`\n",
    "* `constant`\n",
    "* `placeholder`\n",
    "* `SparseTensor` (not yet supported by TensorFlow.jl)\n",
    "\n",
    "With the exception of `Variable`, the value of a tensor is immutable, which means that in the context of a single execution tensors only have a single value. However, evaluating the same tensor twice can return different values; for example that tensor can be the result of reading data from disk, or generating a random number."
   ]
  },
  {
   "cell_type": "markdown",
   "metadata": {},
   "source": [
    "## Rank\n",
    "\n",
    "The **rank** of a `Tensor` object is its number of dimensions. Synonyms for rank include **order** or **degree** or **n-dimension**. Note that rank in TensorFlow is not the same as matrix rank in mathematics. As the following table shows, each rank in TensorFlow corresponds to a different mathematical entity:\n",
    "\n",
    "| Rank | Math entity |\n",
    "| 0 | Scalar (magnitude only) |\n",
    "| 1 | Vector (magnitude and direction) |\n",
    "| 2 | Matrix (table of numbers) |\n",
    "| 3 | 3-Tensor (cube of numbers) |\n",
    "| n | n-Tensor (you get the idea) |"
   ]
  },
  {
   "cell_type": "markdown",
   "metadata": {},
   "source": [
    "### Rank 0\n",
    "\n",
    "The following snippet demonstrates creating a few rank 0 variables:"
   ]
  },
  {
   "cell_type": "code",
   "execution_count": 32,
   "metadata": {
    "scrolled": true
   },
   "outputs": [],
   "source": [
    "# mammal = Variable(\"Elephant\") # currently errors\n",
    "ignition = Variable(451)\n",
    "floating = Variable(3.14159265359)\n",
    "its_complicated = Variable(12.3 - 4.85im);"
   ]
  },
  {
   "cell_type": "markdown",
   "metadata": {},
   "source": [
    "### Rank 1\n",
    "\n",
    "To create a rank 1 `Tensor` object, you can pass a vector of items as the initial value. For example:"
   ]
  },
  {
   "cell_type": "code",
   "execution_count": 36,
   "metadata": {},
   "outputs": [],
   "source": [
    "mystr = Variable([\"Hello\"])\n",
    "cool_numbers = Variable([3.14159, 2.71828])\n",
    "first_primes = Variable([2, 3, 5, 7, 11])\n",
    "its_very_complicated = Variable([12.3 - 4.85im, 7.5 - 6.23im]);"
   ]
  },
  {
   "cell_type": "markdown",
   "metadata": {},
   "source": [
    "### Higher ranks\n",
    "\n",
    "A rank 2 `Tensor` object consists of at least one row and at least one column:"
   ]
  },
  {
   "cell_type": "code",
   "execution_count": 52,
   "metadata": {},
   "outputs": [],
   "source": [
    "mymat = Variable([7 11])\n",
    "myxor = Variable([false true; true false])\n",
    "linear_squares = Variable([4 9 16 25])\n",
    "squarish_squares = Variable([4 9; 16 25]);"
   ]
  },
  {
   "cell_type": "markdown",
   "metadata": {},
   "source": [
    "Higher-rank Tensors, similarly, consist of an n-dimensional array. For example, during image processing, many tensors of rank 4 are used, with dimensions corresponding to example-in-batch, image width, image height, and color channel."
   ]
  },
  {
   "cell_type": "code",
   "execution_count": 61,
   "metadata": {},
   "outputs": [],
   "source": [
    "my_image = Variable(zeros(10, 299, 299, 3)); # batch x height x width x color"
   ]
  },
  {
   "cell_type": "markdown",
   "metadata": {},
   "source": [
    "### Getting a `Tensor` object's rank\n",
    "\n",
    "To determine the rank of a `Tensor` object, call the `TensorFlow.Ops.rank` method. For example, the following method programmatically determines the rank of the `Tensor` defined in the previous section:"
   ]
  },
  {
   "cell_type": "code",
   "execution_count": 69,
   "metadata": {},
   "outputs": [],
   "source": [
    "r = TensorFlow.Ops.rank(my_image); # After the graph runs, r will hold the value 4."
   ]
  },
  {
   "cell_type": "markdown",
   "metadata": {},
   "source": [
    "### Referring to `Tensor` slices\n",
    "\n",
    "Since a `Tensor` is an n-dimensional array of cells, to access a single cell in a `Tensor` you need to specify n indices.\n",
    "\n",
    "For a rank 0 tensor (a scalar), no indices are necessary, since it is already a single number.\n",
    "\n",
    "For a rank 1 tensor (a vector), passing a single index allows you to access a number:\n",
    "\n",
    "```julia\n",
    "my_scalar = my_vector[2]\n",
    "```\n",
    "\n",
    "Note that the index passed inside the `[]` can itself be a scalar `Tensor`, if you want to dynamically choose an element from the vector.\n",
    "\n",
    "For tensors of rank 2 or higher, the situation is more interesting. For a `Tensor` of rank 2, passing two numbers returns a scalar, as expected:\n",
    "\n",
    "```julia\n",
    "my_scalar = my_matrix[1, 2]\n",
    "```\n",
    "\n",
    "Passing a single number, however, returns a subvector of a matrix, as follows:\n",
    "\n",
    "```julia\n",
    "my_row_vector = my_matrix[2]\n",
    "my_column_vector = my_matrix[:, 3]\n",
    "```\n",
    "\n",
    "The `:` notation is Julia slicing syntax for \"leave this dimension alone\". This is useful in higher-rank Tensors, as it allows you to access its subvectors, submatrices, and even other subtensors.\n",
    "\n",
    "**★Important**: TensorFlow.jl uses the 1-based Julia indexing convention, which is different from the Python API."
   ]
  },
  {
   "cell_type": "markdown",
   "metadata": {},
   "source": [
    "## Shape\n",
    "\n",
    "The **shape** of a tensor is the number of elements in each dimension. TensorFlow automatically infers shapes during graph construction. These inferred shapes might have known or unknown rank. If the rank is known, the sizes of each dimension might be known or unknown.\n",
    "\n",
    "The TensorFlow documentation uses three notational conventions to describe tensor dimensionality: rank, shape, and dimension number. The following table shows how these relate to one another:\n",
    "\n",
    "|Rank|Shape|Dimension number|Example|\n",
    "|---|---|---|---|\n",
    "|0|[]|0-D|A 0-D tensor. A scalar.|\n",
    "|1|[D0]|1-D|A 1-D tensor with shape [5].|\n",
    "|2|[D0, D1]|2-D|A 2-D tensor with shape [3,4].|\n",
    "|3|[D0, D1, D2]|3-D|A 3-D tensor with shape [1,4,3].|\n",
    "|n|[D0,D1,...,Dn-1]|n-D|A tensor with shape [D0,D1,...,Dn-1]|\n",
    "\n",
    "Shapes are represented via Julia vectors of ints, or with the `TensorShape`."
   ]
  },
  {
   "cell_type": "markdown",
   "metadata": {},
   "source": [
    "### Getting a `Tensor` object's shape\n",
    "\n",
    "There are two ways of accessing the shape of a `Tensor`. While building the graph, it is often useful to ask what is already known about a tensor's shape. This can be done using `get_shape` method on a `Tensor` object. This method returns a `TensorShape` object, which is a convenient way of representing partially-specified shapes (since, when building the graph, not all shapes will be fully known).\n",
    "\n",
    "It is also possible to get a `Tensor` that will represent the fully-defined shape of another `Tensor` at runtime. This is done by calling the `TensorFlow.Ops.shape` operation. This way, you can build a graph that manipulates the shapes of tensors by building other tensors that depend on the dynamic shape of the input `Tensor`.\n",
    "\n",
    "For example, here is how to make a vector of zeros with the same size as the number of columns in a given matrix:\n",
    "\n",
    "```julia\n",
    "my_zeros = Tensor(zeros(get_shape(my_matrix, 2)))\n",
    "```"
   ]
  },
  {
   "cell_type": "markdown",
   "metadata": {},
   "source": [
    "### Changing the shape of a `Tensor`\n",
    "\n",
    "The **number of elements** of a tensor is the product of the sizes of all its shapes. The number of elements of a scalar is always `1`. Since there are often many different shapes that have the same number of elements, it's often convenient to be able to change the shape of a `Tensor`, keeping its elements fixed. This can be done with `reshape`.\n",
    "\n",
    "The following examples demonstrate how to reshape tensors:"
   ]
  },
  {
   "cell_type": "code",
   "execution_count": 125,
   "metadata": {},
   "outputs": [],
   "source": [
    "rank_three_tensor = Tensor(ones(3,4,5))\n",
    "matrix = reshape(rank_three_tensor, [6, 10]) # Reshape existing content into a 6x10 matrix\n",
    "matrixB = reshape(matrix, [3, -1]) # Reshape existing content into a 3x20 matrix. -1 tells\n",
    "                                   # reshape to calculate the size of this dimension\n",
    "matrixAlt = reshape(matrixB, [4, 3, -1]); # Reshape existing content into a 4x3x5 tensor\n",
    "\n",
    "# Note that the number of elements of the reshaped Tensors has to match the\n",
    "# original number of elements. Therefore, the following example generates an\n",
    "# error because no possible value for the last dimension will match the number\n",
    "# of elements.\n",
    "# yet_another = reshape(matrixAlt, [13, 2, -1])  # ERROR!"
   ]
  },
  {
   "cell_type": "markdown",
   "metadata": {},
   "source": [
    "## Data types\n",
    "\n",
    "In addition to dimensionality, Tensors have a data type. Unlike the Python API, TensorFlow.jl uses native Julia data types like `Float32`.\n",
    "\n",
    "It is not possible to have a `Tensor` with more than one data type. It is possible, however, to serialize arbitrary data structures as strings and store those in `Tensor`s.\n",
    "\n",
    "It is possible to cast `Tensor`s from one datatype to another using `cast`:"
   ]
  },
  {
   "cell_type": "code",
   "execution_count": 133,
   "metadata": {},
   "outputs": [
    {
     "data": {
      "text/plain": [
       "<Tensor Cast_41:1 shape=(3) dtype=Float32>"
      ]
     },
     "execution_count": 133,
     "metadata": {},
     "output_type": "execute_result"
    }
   ],
   "source": [
    "# Cast a constant integer tensor into floating point.\n",
    "float_tensor = cast(constant([1, 2, 3]), Float32)"
   ]
  },
  {
   "cell_type": "markdown",
   "metadata": {},
   "source": [
    "To inspect a `Tensor`'s data type, use the `eltype` method."
   ]
  },
  {
   "cell_type": "markdown",
   "metadata": {},
   "source": [
    "## Evaluating Tensors\n",
    "\n",
    "[WIP]"
   ]
  },
  {
   "cell_type": "markdown",
   "metadata": {},
   "source": [
    "## Printing Tensors\n",
    "\n",
    "For debugging purposes you might want to print the value of a `Tensor`. While `tfdbg` provides advanced debugging support, TensorFlow also has an operation to directly print the value of a `Tensor`.\n",
    "\n",
    "Note that you rarely want to use the following pattern when printing a `Tensor`:\n",
    "\n",
    "```julia\n",
    "t = <<some tensorflow operation>>\n",
    "println(t) # This will print the symbolic tensor when the graph is being built.\n",
    "           # This tensor does not have a value in this context.\n",
    "```\n",
    "\n",
    "This code prints the `Tensor` object (which represents deferred computation) and not its value. Instead, TensorFlow provides the `TensorFlow.Ops.print` operation, which returns its first tensor argument unchanged while printing the set of `Tensor`s it is passed as the second argument.\n",
    "\n",
    "To correctly use `TensorFlow.Ops.print` its return value must be used. See the example below\n",
    "\n",
    "```julia\n",
    "t = <<some tensorflow operation>>\n",
    "TensorFlow.Ops.print(t, [t])  # This does nothing\n",
    "t = TensorFlow.Ops.print(t, [t])  # Here we are using the value returned by tf.Print\n",
    "result = t + 1  # Now when result is evaluated the value of `t` will be printed.\n",
    "```\n",
    "\n",
    "When you evaluate `result` you will evaluate everything `result` depends upon. Since `result` depends upon `t`, and evaluating `t` has the side effect of printing its input (the old value of `t`), `t` gets printed."
   ]
  },
  {
   "cell_type": "markdown",
   "metadata": {},
   "source": [
    "----------------------\n",
    "*Except as otherwise noted, the content of this page is licensed under the [Creative Commons Attribution 3.0 License](https://creativecommons.org/licenses/by/3.0/), and code samples are licensed under the [Apache 2.0 License](https://www.apache.org/licenses/LICENSE-2.0). This notebook is adapted from the official [TensorFlow Guide on Low Level APIs](https://www.tensorflow.org/guide/low_level_intro).*"
   ]
  }
 ],
 "metadata": {
  "kernelspec": {
   "display_name": "Julia 1.0.0",
   "language": "julia",
   "name": "julia-1.0"
  },
  "language_info": {
   "file_extension": ".jl",
   "mimetype": "application/julia",
   "name": "julia",
   "version": "1.0.0"
  }
 },
 "nbformat": 4,
 "nbformat_minor": 2
}
