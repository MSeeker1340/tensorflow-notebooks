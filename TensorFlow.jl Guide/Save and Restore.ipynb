{
 "cells": [
  {
   "cell_type": "code",
   "execution_count": 1,
   "metadata": {},
   "outputs": [
    {
     "data": {
      "text/plain": [
       "v\"1.10.0\""
      ]
     },
     "execution_count": 1,
     "metadata": {},
     "output_type": "execute_result"
    }
   ],
   "source": [
    "using TensorFlow\n",
    "tf_version()"
   ]
  },
  {
   "cell_type": "markdown",
   "metadata": {},
   "source": [
    "# Save and Restore\n",
    "\n",
    "The `train.Saver` type provides methods to save and restore models. Follow this guide to learn how to do this, or checkout the [Saving and restoring variable values](http://malmaud.github.io/TensorFlow.jl/latest/saving.html) section of the official TensorFlow.jl documentation.\n",
    "\n",
    "**⋆Note**: Because TensorFlow.jl does not have a `reset_default_graph()` method implemented, make sure to restart your Julia kernel at the indicated cells to reset the TensorFlow environment. "
   ]
  },
  {
   "cell_type": "markdown",
   "metadata": {},
   "source": [
    "## Save and restore variables\n",
    "\n",
    "TensorFlow [Variables](TensorFlow%20Guide%20-%20Variables.ipynb) are the best way to represent shared, persistent state\n",
    "manipulated by your program. The `train.Saver` constructor adds `save` and\n",
    "`restore` ops to the graph for all, or a specified list, of the variables in the\n",
    "graph.  The `Saver` object provides methods to run these ops, specifying paths\n",
    "for the checkpoint files to write to or read from.\n",
    "\n",
    "`Saver` restores all variables already defined in your model. If you're\n",
    "loading a model without knowing how to build its graph (for example, if you're\n",
    "writing a generic program to load models), then read the\n",
    "[Overview of saving and restoring models](#models) section\n",
    "later in this document.\n",
    "\n",
    "TensorFlow saves variables in binary *checkpoint files* that map variable\n",
    "names to tensor values.\n",
    "\n",
    "**!Caution**: TensorFlow model files are code. Be careful with untrusted code.\n",
    "See [Using TensorFlow Securely](https://github.com/tensorflow/tensorflow/blob/master/SECURITY.md)\n",
    "for details."
   ]
  },
  {
   "cell_type": "markdown",
   "metadata": {},
   "source": [
    "### Save variables\n",
    "\n",
    "Create a `Saver` with `train.Saver()` to manage all variables in the\n",
    "model. For example, the following snippet demonstrates how to call the\n",
    "`save` method to save variables to checkpoint files:"
   ]
  },
  {
   "cell_type": "code",
   "execution_count": 4,
   "metadata": {},
   "outputs": [
    {
     "name": "stdout",
     "output_type": "stream",
     "text": [
      "Model saved\n"
     ]
    },
    {
     "name": "stderr",
     "output_type": "stream",
     "text": [
      "2018-10-05 09:38:55.748325: I tensorflow/core/platform/cpu_feature_guard.cc:141] Your CPU supports instructions that this TensorFlow binary was not compiled to use: SSE4.1 SSE4.2 AVX AVX2 FMA\n"
     ]
    }
   ],
   "source": [
    "# Create some variables.\n",
    "@tf v1 = get_variable([3], Float64; initializer=ConstantInitializer(0.0))\n",
    "@tf v2 = get_variable([5], Float64; initializer=ConstantInitializer(0.0))\n",
    "\n",
    "inc_v1 = assign(v1, v1 + 1)\n",
    "dec_v2 = assign(v2, v2 - 1)\n",
    "\n",
    "# Add ops to save and restore all the variables.\n",
    "saver = train.Saver()\n",
    "\n",
    "# Later, launch the model, initialize the variables, do some work, and save the variables to disk.\n",
    "sess = Session()\n",
    "run(sess, global_variables_initializer())\n",
    "# Do some work with the model.\n",
    "run(sess, inc_v1)\n",
    "run(sess, dec_v2)\n",
    "# Save the variables to disk.\n",
    "train.save(saver, sess, \"model.jld\")\n",
    "println(\"Model saved\")\n",
    "close(sess)"
   ]
  },
  {
   "cell_type": "markdown",
   "metadata": {},
   "source": [
    "**⋆Note**: TensorFlow.jl uses the [JDL2](https://github.com/simonster/JLD2.jl) format, which is different from the Python format. As such, currently it is not possible to share parameter between Julia and Python-trained models. Refer to the [official documentation - Limitations](http://malmaud.github.io/TensorFlow.jl/latest/index.html#Limitations-1) for more info."
   ]
  },
  {
   "cell_type": "markdown",
   "metadata": {},
   "source": [
    "### Restore variables\n",
    "\n",
    "The `train.Saver` object not only saves variables to checkpoint files, it\n",
    "also restores variables. Note that when you restore variables you do not have\n",
    "to initialize them beforehand. For example, the following snippet demonstrates\n",
    "how to call the `train.restore` method to restore variables from the\n",
    "checkpoint files:"
   ]
  },
  {
   "cell_type": "code",
   "execution_count": 1,
   "metadata": {},
   "outputs": [
    {
     "name": "stdout",
     "output_type": "stream",
     "text": [
      "Model restored\n"
     ]
    },
    {
     "name": "stderr",
     "output_type": "stream",
     "text": [
      "2018-10-05 09:39:23.936891: I tensorflow/core/platform/cpu_feature_guard.cc:141] Your CPU supports instructions that this TensorFlow binary was not compiled to use: SSE4.1 SSE4.2 AVX AVX2 FMA\n"
     ]
    },
    {
     "name": "stdout",
     "output_type": "stream",
     "text": [
      "v1 : [1.0, 1.0, 1.0]\n",
      "v2 : [-1.0, -1.0, -1.0, -1.0, -1.0]\n"
     ]
    }
   ],
   "source": [
    "# !!! Restart your Julia kernel here !!!\n",
    "using TensorFlow\n",
    "\n",
    "# Create some variables.\n",
    "@tf v1 = get_variable([3], Float64)\n",
    "@tf v2 = get_variable([5], Float64)\n",
    "\n",
    "# Add ops to save and restore all the variables.\n",
    "saver = train.Saver()\n",
    "\n",
    "# Later, launch the model, use the saver to restore variables from disk, and\n",
    "# do some work with the model.\n",
    "sess = Session()\n",
    "# Restore variables from disk.\n",
    "train.restore(saver, sess, \"model.jld\")\n",
    "println(\"Model restored\")\n",
    "# Check the values of the variables\n",
    "println(\"v1 : \", run(sess, v1))\n",
    "println(\"v2 : \", run(sess, v2))\n",
    "close(sess)"
   ]
  },
  {
   "cell_type": "markdown",
   "metadata": {},
   "source": [
    "### Choose variables to save and restore\n",
    "\n",
    "If you do not pass any arguments to `train.Saver()`, the saver handles all variables in the graph. It is sometimes useful to only save or restore a subset of the variables\n",
    "used by a model.  For example, you may have trained a neural net with five\n",
    "layers, and you now want to train a new model with six layers that reuses the\n",
    "existing weights of the five trained layers. You can use the saver to restore\n",
    "the weights of just the first five layers.\n",
    "\n",
    "You can easily specify the variables to save or load by passing to the `var_list` keyword argument of the `train.Saver()` constructor a list of variables.\n",
    "\n",
    "Continuing from the save/restore examples shown earlier (*This currently fails on TensorFlow.jl*):"
   ]
  },
  {
   "cell_type": "code",
   "execution_count": 1,
   "metadata": {
    "scrolled": true
   },
   "outputs": [
    {
     "name": "stderr",
     "output_type": "stream",
     "text": [
      "2018-10-05 09:48:14.780351: I tensorflow/core/platform/cpu_feature_guard.cc:141] Your CPU supports instructions that this TensorFlow binary was not compiled to use: SSE4.1 SSE4.2 AVX AVX2 FMA\n"
     ]
    },
    {
     "ename": "KeyError",
     "evalue": "KeyError: key \"v1\" not found",
     "output_type": "error",
     "traceback": [
      "KeyError: key \"v1\" not found",
      "",
      "Stacktrace:",
      " [1] getindex(::Dict{Any,Any}, ::String) at ./dict.jl:478",
      " [2] restore_helper!(::Dict{Any,Any}, ::TensorFlow.train.Saver, ::String, ::Array{Float64,1}) at /home/mseeker/.julia/packages/TensorFlow/A6TdG/src/train.jl:252",
      " [3] restore(::TensorFlow.train.Saver, ::Session, ::String) at /home/mseeker/.julia/packages/TensorFlow/A6TdG/src/train.jl:260",
      " [4] top-level scope at In[1]:15"
     ]
    }
   ],
   "source": [
    "# !!! Restart your Julia kernel here !!!\n",
    "using TensorFlow\n",
    "\n",
    "# Create some variables.\n",
    "@tf v1 = get_variable([3], Float64; initializer=ConstantInitializer(0.0))\n",
    "@tf v2 = get_variable([5], Float64; initializer=ConstantInitializer(0.0))\n",
    "\n",
    "# Add ops to save and restore only `v2`\n",
    "saver = train.Saver(;var_list=[v2])\n",
    "\n",
    "# Use the saver object normally after that.\n",
    "sess = Session()\n",
    "# Initialize v1 since the saver will not.\n",
    "run(sess, v1.assign_node)\n",
    "train.restore(saver, sess, \"model.jld\")\n",
    "println(\"v1 : \", run(sess, v1))\n",
    "println(\"v2 : \", run(sess, v2))"
   ]
  },
  {
   "cell_type": "markdown",
   "metadata": {},
   "source": [
    "Notes:\n",
    "\n",
    "*  You can create as many `Saver` objects as you want if you need to save and\n",
    "   restore different subsets of the model variables.  The same variable can be\n",
    "   listed in multiple saver objects; its value is only changed when the\n",
    "   `restore` method is run.\n",
    "\n",
    "*  If you only restore a subset of the model variables at the start of a\n",
    "   session, you have to run an initialize op for the other variables.\n",
    "\n",
    "*  The ability to inspect variables in a checkpoint and save variables under a different name is not yet supported by TensorFlow.jl"
   ]
  },
  {
   "cell_type": "markdown",
   "metadata": {},
   "source": [
    "## Build and load a SavedModel\n",
    "\n",
    "This functionality is not yet supported by TensorFlow.jl"
   ]
  },
  {
   "cell_type": "markdown",
   "metadata": {},
   "source": [
    "----------------------\n",
    "*Except as otherwise noted, the content of this page is licensed under the [Creative Commons Attribution 3.0 License](https://creativecommons.org/licenses/by/3.0/), and code samples are licensed under the [Apache 2.0 License](https://www.apache.org/licenses/LICENSE-2.0). This notebook is adapted from the official [TensorFlow Guide on Save and Restore](https://www.tensorflow.org/guide/saved_model).*"
   ]
  }
 ],
 "metadata": {
  "kernelspec": {
   "display_name": "Julia 1.0.0",
   "language": "julia",
   "name": "julia-1.0"
  },
  "language_info": {
   "file_extension": ".jl",
   "mimetype": "application/julia",
   "name": "julia",
   "version": "1.0.0"
  }
 },
 "nbformat": 4,
 "nbformat_minor": 2
}
