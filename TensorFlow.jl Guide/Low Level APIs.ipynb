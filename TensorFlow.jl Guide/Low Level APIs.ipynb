{
 "cells": [
  {
   "cell_type": "markdown",
   "metadata": {},
   "source": [
    "# Introduction\n",
    "\n",
    "This guide gets you started programming in the low-level TensorFlow APIs (TensorFlow Core) using TensorFlow.jl, showing you how to:\n",
    "\n",
    "* Manage your own TensorFlow program (a `Graph`) and TensorFlow runtime (a `Session`), instead of relying on Estimators to manage them.\n",
    "\n",
    "* Run TensorFlow operations, using a `Session`.\n",
    "\n",
    "* Use high level components (`datasets`, `layers`, and `feature_columns`) in this low level environment.\n",
    "\n",
    "* Build your own training loop, instead of using the one provided by Estimators.\n",
    "\n",
    "We recommend using the higher level APIs to build models when possible. Knowing TensorFlow Core is valuable for the following reasons:\n",
    "\n",
    "* Experimentation and debugging are both more straight forward when you can use low level TensorFlow operations directly.\n",
    "\n",
    "* It gives you a mental model of how things work internally when using the higher level APIs."
   ]
  },
  {
   "cell_type": "markdown",
   "metadata": {},
   "source": [
    "## Setup\n",
    "\n",
    "Before using this guide, [install TensorFlow.jl](http://malmaud.github.io/TensorFlow.jl/latest/index.html#Installation-1).\n",
    "\n",
    "To get the most out of this guide, you should know the following:\n",
    "\n",
    "* How to program in Julia.\n",
    "\n",
    "* At least a little bit about arrays.\n",
    "\n",
    "* Ideally, something about machine learning."
   ]
  },
  {
   "cell_type": "code",
   "execution_count": 1,
   "metadata": {},
   "outputs": [
    {
     "data": {
      "text/plain": [
       "v\"1.10.0\""
      ]
     },
     "execution_count": 1,
     "metadata": {},
     "output_type": "execute_result"
    }
   ],
   "source": [
    "using TensorFlow\n",
    "TensorFlow.tf_version()"
   ]
  },
  {
   "cell_type": "markdown",
   "metadata": {},
   "source": [
    "## Tensor Values\n",
    "\n",
    "The central unit of data in TensorFlow is the **tensor**. A tensor consists of a set of primitive values shaped into an array of any number of dimensions. A tensor's **rank** is its number of dimensions, while its **shape** is a vector of integers specifying the array's length along each dimension. Here are some examples of tensor values:\n",
    "\n",
    "```julia\n",
    "3. # a rank 0 tensor; a scalar with shape []\n",
    "\n",
    "[1., 2., 3.] # a rank 1 tensor; a vector with shape [3]\n",
    "\n",
    "[1. 2. 3.\n",
    " 4. 5. 6.] # a rank 2 tensor; a matrix with shape [2, 3]\n",
    "\n",
    "cat([1., 7.], [2., 8.], [3., 9.]; dims=3) # a rank 3 tensor with shape [2, 1, 3]\n",
    "```\n",
    "\n",
    "TensorFlow.jl uses Julia `Array` to represent tensor **values**."
   ]
  },
  {
   "cell_type": "markdown",
   "metadata": {},
   "source": [
    "## TensorFlow Core Walkthrough\n",
    "\n",
    "You might think of TensorFlow Core programs as consisting of two discrete sections:\n",
    "\n",
    "1. Building the computational graph (a `Graph`).\n",
    "\n",
    "2. Running the computational graph (using a `Session`)."
   ]
  },
  {
   "cell_type": "markdown",
   "metadata": {},
   "source": [
    "### Graph\n",
    "\n",
    "A **computational graph** is a series of TensorFlow operations arranged into a graph. The graph is composed of two types of objects.\n",
    "\n",
    "* `Operation` (or \"ops\"): The nodes of the graph. Operations describe calculations that consume and produce tensors.\n",
    "\n",
    "* `Tensor`: The edges in the graph. These represent the values that will flow through the graph. Most TensorFlow functions return `Tensor`s.\n",
    "\n",
    "**★ Important**: `Tensor`s do not have values, they are just handles to elements in the computation graph.\n",
    "\n",
    "Let's build a simple computational graph. The most basic operation is a constant. The Julia function that builds the operation takes a tensor value as input. The resulting operation takes no inputs. When run, it outputs the value that was passed to the constructor. We can create two floating point constants `a` and `b` as follows:"
   ]
  },
  {
   "cell_type": "code",
   "execution_count": 2,
   "metadata": {},
   "outputs": [
    {
     "name": "stdout",
     "output_type": "stream",
     "text": [
      "a = <Tensor Const:1 shape=() dtype=Float64>\n",
      "b = <Tensor Const_2:1 shape=() dtype=Float64>\n",
      "total = <Tensor Add:1 shape=() dtype=Float64>\n"
     ]
    }
   ],
   "source": [
    "a = constant(3.0, dtype=Float64)\n",
    "b = constant(4.0) # also Float64 implicitly; note this is different from the Python version\n",
    "total = a + b\n",
    "println(\"a = $a\")\n",
    "println(\"b = $b\")\n",
    "println(\"total = $total\")"
   ]
  },
  {
   "cell_type": "markdown",
   "metadata": {},
   "source": [
    "Notice that printing the tensors does not output the values `3.0`, `4.0`, and `7.0` as you might expect. The above statements only build the computation graph. These `Tensor` objects just represent the results of the operations that will be run.\n",
    "\n",
    "Each operation in a graph is given a unique name. This name is independent of the names the objects are assigned to in Julia. Tensors are named after the operation that produces them followed by an output index, as in \"Add:1\" above."
   ]
  },
  {
   "cell_type": "markdown",
   "metadata": {},
   "source": [
    "### TensorBoard"
   ]
  },
  {
   "cell_type": "markdown",
   "metadata": {},
   "source": [
    "TensorFlow provides a utility called TensorBoard. One of TensorBoard's many capabilities is visualizing a computation graph. You can easily do this with a few simple commands.\n",
    "\n",
    "First you save the computation graph to a TensorBoard summary file as follows:"
   ]
  },
  {
   "cell_type": "code",
   "execution_count": 3,
   "metadata": {},
   "outputs": [],
   "source": [
    "writer = TensorFlow.summary.FileWriter(\".\");"
   ]
  },
  {
   "cell_type": "markdown",
   "metadata": {},
   "source": [
    "This will produce an `event` file in the current directory with a name in the following format:\n",
    "\n",
    "```\n",
    "events.out.tfevents.{timestamp}.{hostname}\n",
    "```\n",
    "\n",
    "Now, launch TensorBoard with the following shell command:"
   ]
  },
  {
   "cell_type": "code",
   "execution_count": 5,
   "metadata": {
    "scrolled": true
   },
   "outputs": [
    {
     "name": "stderr",
     "output_type": "stream",
     "text": [
      "TensorBoard 1.10.0 at http://Xingjian-Guo-Ubuntu-Desktop:6006 (Press CTRL+C to quit)\n"
     ]
    }
   ],
   "source": [
    "run(`tensorboard --logdir .`)"
   ]
  },
  {
   "cell_type": "markdown",
   "metadata": {},
   "source": [
    "Follow the link to open TensorBoard's graphs page in your browser, and you should see a graph similar to the following:\n",
    "\n",
    "<img src=\"https://www.tensorflow.org/images/getting_started_add.png\" alt=\"TensorBoard screenshot\">\n",
    "\n",
    "Remember to interrupt the jupyter kernel to quit TensorBoard and return to Julia. Alternatively, you can run the tensorboard command in a separate terminal. For more about TensorBoard's graph visualization tools see [Visualizing learning with Tensorboard](http://malmaud.github.io/TensorFlow.jl/latest/visualization.html)."
   ]
  },
  {
   "cell_type": "markdown",
   "metadata": {},
   "source": [
    "### Session\n",
    "\n",
    "To evaluate tensors, instantiate a `Session` object, informally known as a **session**. A session encapsulates the state of the TensorFlow runtime, and runs TensorFlow operations. If a `Graph` is like a `.jl` file, a `Session` is like the `julia` executable.\n",
    "\n",
    "The following code creates a `Session` object and then invokes its `run` method to evaluate the total tensor we created above:"
   ]
  },
  {
   "cell_type": "code",
   "execution_count": 3,
   "metadata": {},
   "outputs": [
    {
     "name": "stderr",
     "output_type": "stream",
     "text": [
      "2018-10-02 13:45:07.216685: I tensorflow/core/platform/cpu_feature_guard.cc:141] Your CPU supports instructions that this TensorFlow binary was not compiled to use: SSE4.1 SSE4.2 AVX AVX2 FMA\n"
     ]
    },
    {
     "data": {
      "text/plain": [
       "7.0"
      ]
     },
     "execution_count": 3,
     "metadata": {},
     "output_type": "execute_result"
    }
   ],
   "source": [
    "sess = Session()\n",
    "run(sess, total)"
   ]
  },
  {
   "cell_type": "markdown",
   "metadata": {},
   "source": [
    "When you request the output of a node with `run` TensorFlow backtracks through the graph and runs all the nodes that provide input to the requested output node. So this prints the expected value of 7.0.\n",
    "\n",
    "You can pass multiple tensors to `run` in a vector or tuple, as in the following example:"
   ]
  },
  {
   "cell_type": "code",
   "execution_count": 4,
   "metadata": {},
   "outputs": [
    {
     "data": {
      "text/plain": [
       "2-element Array{Any,1}:\n",
       "  [3.0, 4.0]\n",
       " 7.0        "
      ]
     },
     "execution_count": 4,
     "metadata": {},
     "output_type": "execute_result"
    }
   ],
   "source": [
    "run(sess, [(a,b), total])"
   ]
  },
  {
   "cell_type": "markdown",
   "metadata": {},
   "source": [
    "During a call to `run` any `Tensor` only has a single value. For example, the following code calls `random_uniform` to produce a `Tensor` that generates a random 3-element vector (with values in `[0,1)`):"
   ]
  },
  {
   "cell_type": "code",
   "execution_count": 5,
   "metadata": {},
   "outputs": [
    {
     "name": "stdout",
     "output_type": "stream",
     "text": [
      "[0.300829, 0.87516, 0.62129]\n",
      "[0.264473, 0.733504, 0.999863]\n",
      "Array{Float64,1}[[1.47811, 1.8325, 1.99953], [2.47811, 2.8325, 2.99953]]\n"
     ]
    }
   ],
   "source": [
    "vec = random_uniform([3,], dtype=Float64)\n",
    "out1 = vec + 1\n",
    "out2 = vec + 2\n",
    "println(run(sess, vec))\n",
    "println(run(sess, vec))\n",
    "println(run(sess, (out1, out2)))"
   ]
  },
  {
   "cell_type": "markdown",
   "metadata": {},
   "source": [
    "The result shows a different random value on each call to `run`, but a consistent value during a single run (`out1` and `out2` receive the same random input).\n",
    "\n",
    "Some TensorFlow functions return `Operation`s instead of `Tensor`s. The result of calling run on an Operation is `nothing`. You run an operation to cause a side-effect, not to retrieve a value. Examples of this include the initialization, and training ops demonstrated later."
   ]
  },
  {
   "cell_type": "markdown",
   "metadata": {},
   "source": [
    "### Feeding\n",
    "\n",
    "As it stands, this graph is not especially interesting because it always produces a constant result. A graph can be parameterized to accept external inputs, known as **placeholders**. A **placeholder** is a promise to provide a value later, like a function argument."
   ]
  },
  {
   "cell_type": "code",
   "execution_count": 6,
   "metadata": {},
   "outputs": [],
   "source": [
    "x = placeholder(Float64)\n",
    "y = placeholder(Float64)\n",
    "z = x + y;"
   ]
  },
  {
   "cell_type": "markdown",
   "metadata": {},
   "source": [
    "The preceding three lines are a bit like a function in which we define two input parameters (`x` and `y`) and then an operation on them. We can evaluate this graph with multiple inputs by using the third argument of the `run` method to feed concrete values to the placeholders:"
   ]
  },
  {
   "cell_type": "code",
   "execution_count": 12,
   "metadata": {},
   "outputs": [
    {
     "name": "stdout",
     "output_type": "stream",
     "text": [
      "7.5\n",
      "[3.0, 7.0]\n"
     ]
    }
   ],
   "source": [
    "println(run(sess, z, Dict(x => 3, y => 4.5)))\n",
    "println(run(sess, z, Dict(x => [1, 3], y => [2, 4])))"
   ]
  },
  {
   "cell_type": "markdown",
   "metadata": {},
   "source": [
    "Also note that the third argument can be used to overwrite any tensor in the graph. The only difference between placeholders and other `Tensor`s is that placeholders throw an error if no value is fed to them."
   ]
  },
  {
   "cell_type": "markdown",
   "metadata": {},
   "source": [
    "## Datasets\n",
    "\n",
    "WIP (PyCall?)"
   ]
  },
  {
   "cell_type": "markdown",
   "metadata": {},
   "source": [
    "## Layers\n",
    "\n",
    "WIP (PyCall?)"
   ]
  },
  {
   "cell_type": "markdown",
   "metadata": {},
   "source": [
    "## Feature columns\n",
    "\n",
    "WIP (PyCall?)"
   ]
  },
  {
   "cell_type": "markdown",
   "metadata": {},
   "source": [
    "## Training\n",
    "\n",
    "Now that you're familiar with the basics of core TensorFlow, let's train a small regression model manually.\n",
    "\n",
    "### Define the data\n",
    "\n",
    "First let's define some inputs, `x`, and the expected output for each input, `y_true`:"
   ]
  },
  {
   "cell_type": "code",
   "execution_count": 20,
   "metadata": {},
   "outputs": [],
   "source": [
    "x = constant([1., 2., 3., 4.])\n",
    "y_true = constant([0., -1., -2., -3.]);"
   ]
  },
  {
   "cell_type": "markdown",
   "metadata": {},
   "source": [
    "### Define the model\n",
    "\n",
    "WIP"
   ]
  },
  {
   "cell_type": "markdown",
   "metadata": {},
   "source": [
    "## Next steps\n",
    "\n",
    "To learn more about building models with TensorFlow consider the following:\n",
    "\n",
    "* Custom Estimators, to learn how to build customized models with TensorFlow. Your knowledge of TensorFlow Core will help you understand and debug your own models. [WIP]\n",
    "\n",
    "If you want to learn more about the inner workings of TensorFlow consider the following documents, which go into more depth on many of the topics discussed here:\n",
    "\n",
    "* Graphs and Sessions [WIP]\n",
    "* Tensors [WIP]\n",
    "* Variables [WIP]"
   ]
  },
  {
   "cell_type": "markdown",
   "metadata": {},
   "source": [
    "----------------------\n",
    "*Except as otherwise noted, the content of this page is licensed under the [Creative Commons Attribution 3.0 License](https://creativecommons.org/licenses/by/3.0/), and code samples are licensed under the [Apache 2.0 License](https://www.apache.org/licenses/LICENSE-2.0). This notebook is adapted from the official [TensorFlow Guide on Low Level APIs](https://www.tensorflow.org/guide/low_level_intro).*"
   ]
  }
 ],
 "metadata": {
  "kernelspec": {
   "display_name": "Julia 1.0.0",
   "language": "julia",
   "name": "julia-1.0"
  },
  "language_info": {
   "file_extension": ".jl",
   "mimetype": "application/julia",
   "name": "julia",
   "version": "1.0.0"
  }
 },
 "nbformat": 4,
 "nbformat_minor": 2
}
